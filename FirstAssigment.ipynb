{
 "cells": [
  {
   "cell_type": "markdown",
   "id": "5d955264",
   "metadata": {},
   "source": [
    "### First Assigment"
   ]
  },
  {
   "cell_type": "markdown",
   "id": "37326f29",
   "metadata": {},
   "source": [
    "### Another Exercise!\n",
    "\n",
    "Let's code a shopping list!\n",
    "We will have a list of elements like this:\n",
    "    \n",
    "x = sc.parallelize([[\"Apple\",3,0.2],[\"Pear\",5,0.35],[\"Milk\",2,1.1],[\"Apple\",3,0.2]])\n",
    "\n",
    "Where the first element of each list is the product, the second the number of unit we bought and the third the unit price.\n",
    "\n",
    "We want to have the list of how much we have spent in each product (ordered), and the total amount of money we have spent. \n",
    "\n",
    "(Optional) If we buy more than 10 products of the same type, we have a 10% discount of the final price"
   ]
  },
  {
   "cell_type": "code",
   "execution_count": 1,
   "id": "03496fca",
   "metadata": {},
   "outputs": [],
   "source": [
    "import pyspark\n",
    "from operator import add\n",
    "from pyspark import SparkConf\n",
    "from pyspark import SparkContext"
   ]
  },
  {
   "cell_type": "code",
   "execution_count": 2,
   "id": "e86258aa",
   "metadata": {},
   "outputs": [],
   "source": [
    "conf = SparkConf()\n",
    "conf.setMaster(\"local[*]\")\n",
    "conf.setAppName(\"spark-basic\")\n",
    "sc = SparkContext(conf = conf)"
   ]
  },
  {
   "cell_type": "code",
   "execution_count": 2,
   "id": "a5f005ca",
   "metadata": {},
   "outputs": [],
   "source": [
    "#First Approach "
   ]
  },
  {
   "cell_type": "code",
   "execution_count": 3,
   "id": "4e8af5bd",
   "metadata": {},
   "outputs": [],
   "source": [
    "x = sc.parallelize([[\"Apple\",3,0.2],[\"Pear\",5,0.35],[\"Milk\",2,1.1],[\"Apple\",3,0.2]])"
   ]
  },
  {
   "cell_type": "code",
   "execution_count": 4,
   "id": "fe8f1dd6",
   "metadata": {},
   "outputs": [
    {
     "name": "stdout",
     "output_type": "stream",
     "text": [
      "ParallelCollectionRDD[0] at readRDDFromFile at PythonRDD.scala:274\n"
     ]
    }
   ],
   "source": [
    "print(x)"
   ]
  },
  {
   "cell_type": "code",
   "execution_count": 5,
   "id": "11a2f3bb",
   "metadata": {},
   "outputs": [
    {
     "data": {
      "text/plain": [
       "[['Apple', 3, 0.2], ['Pear', 5, 0.35], ['Milk', 2, 1.1], ['Apple', 3, 0.2]]"
      ]
     },
     "execution_count": 5,
     "metadata": {},
     "output_type": "execute_result"
    }
   ],
   "source": [
    "x.take(4)"
   ]
  },
  {
   "cell_type": "code",
   "execution_count": 7,
   "id": "2a929424",
   "metadata": {},
   "outputs": [
    {
     "data": {
      "text/plain": [
       "['Apple', 'Pear', 'Milk', 'Apple']"
      ]
     },
     "execution_count": 7,
     "metadata": {},
     "output_type": "execute_result"
    }
   ],
   "source": [
    "a = x.map(lambda x:x[0])\n",
    "a.take(4)"
   ]
  },
  {
   "cell_type": "code",
   "execution_count": 9,
   "id": "88198ab8",
   "metadata": {},
   "outputs": [
    {
     "data": {
      "text/plain": [
       "[('Apple', 0.6000000000000001),\n",
       " ('Pear', 1.75),\n",
       " ('Milk', 2.2),\n",
       " ('Apple', 0.6000000000000001)]"
      ]
     },
     "execution_count": 9,
     "metadata": {},
     "output_type": "execute_result"
    }
   ],
   "source": [
    "f = x.map(lambda x: (x[0], x[1] * x[2]))\n",
    "f.take(4)"
   ]
  },
  {
   "cell_type": "code",
   "execution_count": 15,
   "id": "3ba38bfa",
   "metadata": {},
   "outputs": [
    {
     "data": {
      "text/plain": [
       "dict_items([('Apple', 1.2000000000000002), ('Pear', 1.75), ('Milk', 2.2)])"
      ]
     },
     "execution_count": 15,
     "metadata": {},
     "output_type": "execute_result"
    }
   ],
   "source": [
    "g = f.reduceByKeyLocally(add)\n",
    "g.items()"
   ]
  },
  {
   "cell_type": "code",
   "execution_count": 11,
   "id": "74bdeabb",
   "metadata": {},
   "outputs": [
    {
     "data": {
      "text/plain": [
       "dict_items"
      ]
     },
     "execution_count": 11,
     "metadata": {},
     "output_type": "execute_result"
    }
   ],
   "source": [
    "type(g)"
   ]
  },
  {
   "cell_type": "markdown",
   "id": "76aabf16",
   "metadata": {},
   "source": [
    "### Last one..."
   ]
  },
  {
   "cell_type": "markdown",
   "id": "6c2c32c0",
   "metadata": {},
   "source": [
    "Replicate the last exercise, but the structure of the data is different. We have one object with products and prices. On the other hand, we have one list of the following form:\n",
    "\n",
    "x = sc.parallelize([[\"Maria\",\"Apple\",1],[\"Maria\",\"Pear\",2],[\"Pau\",\"Milk\",4],[\"Laura\",\"Apple\",3]])\n",
    "\n",
    "We want to know how much each of the have spent in total."
   ]
  },
  {
   "cell_type": "code",
   "execution_count": 152,
   "id": "906e5d85",
   "metadata": {},
   "outputs": [],
   "source": [
    "#['product',units, unit_price]\n",
    "prodPrice = sc.parallelize([[\"Apple\",3,0.2],[\"Pear\",5,0.35],[\"Milk\",2,1.1],[\"Apple\",3,0.2]])"
   ]
  },
  {
   "cell_type": "code",
   "execution_count": 153,
   "id": "7abe588d",
   "metadata": {},
   "outputs": [
    {
     "data": {
      "text/plain": [
       "[['Apple', 3, 0.2], ['Pear', 5, 0.35], ['Milk', 2, 1.1], ['Apple', 3, 0.2]]"
      ]
     },
     "execution_count": 153,
     "metadata": {},
     "output_type": "execute_result"
    }
   ],
   "source": [
    "prodPrice.take(4)"
   ]
  },
  {
   "cell_type": "code",
   "execution_count": 154,
   "id": "b05e9f38",
   "metadata": {},
   "outputs": [
    {
     "data": {
      "text/plain": [
       "['Apple', 'Pear', 'Milk', 'Apple']"
      ]
     },
     "execution_count": 154,
     "metadata": {},
     "output_type": "execute_result"
    }
   ],
   "source": [
    "prodPrice.keys().take(4)"
   ]
  },
  {
   "cell_type": "code",
   "execution_count": 155,
   "id": "8e3ea947",
   "metadata": {},
   "outputs": [],
   "source": [
    "#['client',product, units]\n",
    "clientProdQty = sc.parallelize([[\"Maria\",\"Apple\",1],[\"Maria\",\"Pear\",2],[\"Pau\",\"Milk\",4],[\"Laura\",\"Apple\",3]])"
   ]
  },
  {
   "cell_type": "code",
   "execution_count": 156,
   "id": "526aaa1d",
   "metadata": {},
   "outputs": [
    {
     "data": {
      "text/plain": [
       "[['Maria', 'Apple', 1],\n",
       " ['Maria', 'Pear', 2],\n",
       " ['Pau', 'Milk', 4],\n",
       " ['Laura', 'Apple', 3]]"
      ]
     },
     "execution_count": 156,
     "metadata": {},
     "output_type": "execute_result"
    }
   ],
   "source": [
    "clientProdQty.take(4)"
   ]
  },
  {
   "cell_type": "code",
   "execution_count": 157,
   "id": "337d7704",
   "metadata": {},
   "outputs": [
    {
     "data": {
      "text/plain": [
       "['Maria', 'Maria', 'Pau', 'Laura']"
      ]
     },
     "execution_count": 157,
     "metadata": {},
     "output_type": "execute_result"
    }
   ],
   "source": [
    "clientProdQty.keys().take(4)"
   ]
  },
  {
   "cell_type": "code",
   "execution_count": 158,
   "id": "c43964b0",
   "metadata": {},
   "outputs": [
    {
     "data": {
      "text/plain": [
       "[['Apple', ('Maria', 1)],\n",
       " ['Pear', ('Maria', 2)],\n",
       " ['Milk', ('Pau', 4)],\n",
       " ['Apple', ('Laura', 3)]]"
      ]
     },
     "execution_count": 158,
     "metadata": {},
     "output_type": "execute_result"
    }
   ],
   "source": [
    "clientProdQty_= clientProdQty.map(lambda x: [x[1], (x[0], x[2])])\n",
    "clientProdQty_.take(4)"
   ]
  },
  {
   "cell_type": "code",
   "execution_count": 159,
   "id": "bab9ef76",
   "metadata": {},
   "outputs": [
    {
     "data": {
      "text/plain": [
       "[['Apple', 0.2], ['Pear', 0.35], ['Milk', 1.1], ['Apple', 0.2]]"
      ]
     },
     "execution_count": 159,
     "metadata": {},
     "output_type": "execute_result"
    }
   ],
   "source": [
    "prodPrice_ = prodPrice.map(lambda x: [x[0],x[2]])\n",
    "prodPrice_.take(4)"
   ]
  },
  {
   "cell_type": "code",
   "execution_count": 160,
   "id": "da08370c",
   "metadata": {},
   "outputs": [
    {
     "data": {
      "text/plain": [
       "[('Apple', <pyspark.resultiterable.ResultIterable at 0x7f8ad3e40b20>),\n",
       " ('Milk', <pyspark.resultiterable.ResultIterable at 0x7f8ad868a0a0>),\n",
       " ('Pear', <pyspark.resultiterable.ResultIterable at 0x7f8ad868a340>)]"
      ]
     },
     "execution_count": 160,
     "metadata": {},
     "output_type": "execute_result"
    }
   ],
   "source": [
    "prodPrice_ = prodPrice_.groupByKey()\n",
    "prodPrice_.collect()"
   ]
  },
  {
   "cell_type": "code",
   "execution_count": 161,
   "id": "d502715b",
   "metadata": {},
   "outputs": [
    {
     "data": {
      "text/plain": [
       "[['Apple', 0.2], ['Milk', 1.1], ['Pear', 0.35]]"
      ]
     },
     "execution_count": 161,
     "metadata": {},
     "output_type": "execute_result"
    }
   ],
   "source": [
    "prodPrice_ = prodPrice_.map(lambda x: [x[0], min(x[1])])\n",
    "prodPrice_.take(4)"
   ]
  },
  {
   "cell_type": "code",
   "execution_count": 162,
   "id": "9e104105",
   "metadata": {},
   "outputs": [],
   "source": [
    "#prodPrice_.join(clientProdQty_).collect()"
   ]
  },
  {
   "cell_type": "code",
   "execution_count": 164,
   "id": "b5f8d47e",
   "metadata": {},
   "outputs": [],
   "source": [
    "prdCliQtyPrice = clientProdQty_.join(prodPrice_)"
   ]
  },
  {
   "cell_type": "code",
   "execution_count": 165,
   "id": "43892d4c",
   "metadata": {},
   "outputs": [
    {
     "data": {
      "text/plain": [
       "[('Milk', (('Pau', 4), 1.1)),\n",
       " ('Pear', (('Maria', 2), 0.35)),\n",
       " ('Apple', (('Maria', 1), 0.2)),\n",
       " ('Apple', (('Laura', 3), 0.2))]"
      ]
     },
     "execution_count": 165,
     "metadata": {},
     "output_type": "execute_result"
    }
   ],
   "source": [
    "prdCliQtyPrice.take(4)"
   ]
  },
  {
   "cell_type": "code",
   "execution_count": 192,
   "id": "b85d6f01",
   "metadata": {},
   "outputs": [
    {
     "data": {
      "text/plain": [
       "[('Pau', 4.4, 'Milk'),\n",
       " ('Maria', 0.7, 'Pear'),\n",
       " ('Maria', 0.2, 'Apple'),\n",
       " ('Laura', 0.6, 'Apple')]"
      ]
     },
     "execution_count": 192,
     "metadata": {},
     "output_type": "execute_result"
    }
   ],
   "source": [
    "prdCliQtyPrice_ = prdCliQtyPrice.map(lambda x: ( x[1][0][0], round((x[1][0][1] * x[1][1]),2), x[0] ) )\n",
    "prdCliQtyPrice_.take(4)"
   ]
  },
  {
   "cell_type": "code",
   "execution_count": 193,
   "id": "42df1235",
   "metadata": {},
   "outputs": [
    {
     "data": {
      "text/plain": [
       "[('Pau', 4.4), ('Maria', 0.7), ('Maria', 0.2), ('Laura', 0.6)]"
      ]
     },
     "execution_count": 193,
     "metadata": {},
     "output_type": "execute_result"
    }
   ],
   "source": [
    "prdCliQtyPrice_ = prdCliQtyPrice_.map(lambda x: (x[0], x[1]) )\n",
    "prdCliQtyPrice_.take(4)"
   ]
  },
  {
   "cell_type": "code",
   "execution_count": 194,
   "id": "53234751",
   "metadata": {},
   "outputs": [
    {
     "data": {
      "text/plain": [
       "dict_items([('Pau', 4.4), ('Maria', 0.8999999999999999), ('Laura', 0.6)])"
      ]
     },
     "execution_count": 194,
     "metadata": {},
     "output_type": "execute_result"
    }
   ],
   "source": [
    "ClientTotSpent = prdCliQtyPrice_.reduceByKeyLocally(add)\n",
    "ClientTotSpent.items()"
   ]
  },
  {
   "cell_type": "code",
   "execution_count": null,
   "id": "327dfa05",
   "metadata": {},
   "outputs": [],
   "source": []
  }
 ],
 "metadata": {
  "kernelspec": {
   "display_name": "Python 3",
   "language": "python",
   "name": "python3"
  },
  "language_info": {
   "codemirror_mode": {
    "name": "ipython",
    "version": 3
   },
   "file_extension": ".py",
   "mimetype": "text/x-python",
   "name": "python",
   "nbconvert_exporter": "python",
   "pygments_lexer": "ipython3",
   "version": "3.8.8"
  }
 },
 "nbformat": 4,
 "nbformat_minor": 5
}
